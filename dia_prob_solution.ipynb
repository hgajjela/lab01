{
  "nbformat": 4,
  "nbformat_minor": 0,
  "metadata": {
    "colab": {
      "provenance": []
    },
    "kernelspec": {
      "name": "python3",
      "display_name": "Python 3"
    },
    "language_info": {
      "name": "python"
    }
  },
  "cells": [
    {
      "cell_type": "code",
      "execution_count": 1,
      "metadata": {
        "colab": {
          "base_uri": "https://localhost:8080/",
          "height": 35
        },
        "id": "hqMlt3w-5mx-",
        "outputId": "fae53afb-4be1-4007-b213-49ecbb4eea15"
      },
      "outputs": [
        {
          "output_type": "execute_result",
          "data": {
            "text/plain": [
              "'a2b3c3abcd2e2'"
            ],
            "application/vnd.google.colaboratory.intrinsic+json": {
              "type": "string"
            }
          },
          "metadata": {},
          "execution_count": 1
        }
      ],
      "source": [
        "def str_compression(msg):\n",
        "    result = ''\n",
        "    count = 1\n",
        "    if(len(msg))==1:\n",
        "        return msg\n",
        "    else:\n",
        "        for i in range(0,len(msg)-1):\n",
        "            if(msg[i]==msg[i+1]):\n",
        "                count = count+ 1\n",
        "            else:\n",
        "                if count>1:\n",
        "                    result = result + msg[i]+str(count)\n",
        "                    count = 1\n",
        "                else:\n",
        "                    result = result + msg[i]\n",
        "\n",
        "\n",
        "        if(count>1 and i < len(msg)-1):\n",
        "            result = result + msg[i]+str(count)\n",
        "        elif(i < len(msg)-1):\n",
        "            result = result + msg[i+1]\n",
        "\n",
        "\n",
        "        return result\n",
        "\n",
        "str_compression('aabbbcccabcddee')\n"
      ]
    },
    {
      "cell_type": "code",
      "source": [],
      "metadata": {
        "id": "wppeNDzH6BS6"
      },
      "execution_count": null,
      "outputs": []
    }
  ]
}